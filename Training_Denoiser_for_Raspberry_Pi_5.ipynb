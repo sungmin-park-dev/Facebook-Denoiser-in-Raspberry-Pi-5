{
  "nbformat": 4,
  "nbformat_minor": 0,
  "metadata": {
    "colab": {
      "provenance": []
    },
    "kernelspec": {
      "name": "python3",
      "display_name": "Python 3"
    },
    "language_info": {
      "name": "python"
    }
  },
  "cells": [
    {
      "cell_type": "markdown",
      "source": [
        "# Training Facebook Denoiser in Colab.\n",
        "\n",
        "## Intro\n",
        "- Author: Sung-Min, Park\n",
        "- Data: Sep 12, 2025 ---\n",
        "- Descriptions\n",
        "  - This notebooks are written for training facebook denoiser.\n",
        "\n",
        "---"
      ],
      "metadata": {
        "id": "pMrfVSu8smQ-"
      }
    },
    {
      "cell_type": "markdown",
      "source": [
        "## Step 1. Colab 환경 설정"
      ],
      "metadata": {
        "id": "fMhPagRc7czk"
      }
    },
    {
      "cell_type": "markdown",
      "source": [
        "### Step 1-1. 필수 패키지 설치"
      ],
      "metadata": {
        "id": "s_iGg-Xk8eNA"
      }
    },
    {
      "cell_type": "code",
      "execution_count": 10,
      "metadata": {
        "colab": {
          "base_uri": "https://localhost:8080/"
        },
        "id": "5mQZk-XcshE5",
        "outputId": "98d16d21-48d9-4263-ac7c-44d3b522ea80",
        "collapsed": true
      },
      "outputs": [
        {
          "output_type": "stream",
          "name": "stdout",
          "text": [
            "  Preparing metadata (setup.py) ... \u001b[?25l\u001b[?25hdone\n"
          ]
        }
      ],
      "source": [
        "# 필수 패키지 설치\n",
        "!pip install hydra-core==0.11.3 hydra-colorlog==0.1.4 pystoi==0.3.3 sounddevice==0.4.0 --quiet\n",
        "!pip install git+https://github.com/ludlows/python-pesq#egg=pesq --quiet\n",
        "!pip install julius"
      ]
    },
    {
      "cell_type": "markdown",
      "source": [
        "### Step 1-2. PyTorch and settings"
      ],
      "metadata": {
        "id": "LJc69ZQQNk4V"
      }
    },
    {
      "cell_type": "code",
      "source": [
        "import numpy as np\n",
        "import torch\n",
        "import torchaudio\n",
        "import IPython\n",
        "\n",
        "print(f\"Numpy version: {np.__version__}\")\n",
        "print(f\"PyTorch: {torch.__version__}\")\n",
        "print(f\"torchaudio: {torchaudio.__version__}\")\n",
        "\n",
        "needs_restart = False\n",
        "\n",
        "# numpy 체크 (numpy 2.x일 경우만 다운그레이드)\n",
        "if np.__version__.startswith('2.'):\n",
        "    print(\"⚠️ numpy 2.x detected. Downgrading to 1.26.4 for compatibility.\")\n",
        "    !pip install numpy==1.26.4 --quiet\n",
        "    needs_restart = True\n",
        "\n",
        "# GPU 확인\n",
        "if torch.cuda.is_available():\n",
        "    print(\"CUDA is available!\")\n",
        "    print(f\"GPU: {torch.cuda.get_device_name(0)}\")\n",
        "    print(f\"GPU 메모리: {torch.cuda.get_device_properties(0).total_memory / 1024**3:.1f}GB\")\n",
        "else:\n",
        "    print(\"CUDA is unavailable, CPU only\")\n",
        "\n",
        "# 런타임을 자동으로 다시 시작해야 할 경우\n",
        "if needs_restart:\n",
        "    print(\"✅ 런타임을 자동으로 다시 시작합니다.\")\n",
        "    IPython.display.display(IPython.display.Javascript('google.colab.kernel.restart()'))"
      ],
      "metadata": {
        "colab": {
          "base_uri": "https://localhost:8080/",
          "height": 124
        },
        "id": "eOAdSwgm7mwi",
        "outputId": "da0283a0-e088-4332-bbaf-e3a88cca5e35"
      },
      "execution_count": 2,
      "outputs": [
        {
          "output_type": "stream",
          "name": "stdout",
          "text": [
            "Numpy version: 2.0.2\n",
            "PyTorch: 2.8.0+cu126\n",
            "torchaudio: 2.8.0+cu126\n",
            "⚠️ numpy 2.x detected. Downgrading to 1.26.4 for compatibility.\n",
            "CUDA is unavailable, CPU only\n",
            "✅ 런타임을 자동으로 다시 시작합니다.\n"
          ]
        },
        {
          "output_type": "display_data",
          "data": {
            "text/plain": [
              "<IPython.core.display.Javascript object>"
            ],
            "application/javascript": [
              "google.colab.kernel.restart()"
            ]
          },
          "metadata": {}
        }
      ]
    },
    {
      "cell_type": "markdown",
      "source": [
        "### Step 1-3. Cloning Facebook Denoiser"
      ],
      "metadata": {
        "id": "3qm1r1oO8mRq"
      }
    },
    {
      "cell_type": "code",
      "source": [
        "# Facebook Denoiser 클론\n",
        "print(\"Facebook Denoiser 클론 중...\")\n",
        "!git clone https://github.com/facebookresearch/denoiser.git\n",
        "\n",
        "%cd denoiser"
      ],
      "metadata": {
        "id": "M6p9LEXzsqDF",
        "colab": {
          "base_uri": "https://localhost:8080/"
        },
        "outputId": "6a3ce36c-c8db-45a3-ce26-4884dc0b0387"
      },
      "execution_count": 3,
      "outputs": [
        {
          "output_type": "stream",
          "name": "stdout",
          "text": [
            "Facebook Denoiser 클론 중...\n",
            "Cloning into 'denoiser'...\n",
            "remote: Enumerating objects: 440, done.\u001b[K\n",
            "remote: Total 440 (delta 0), reused 0 (delta 0), pack-reused 440 (from 1)\u001b[K\n",
            "Receiving objects: 100% (440/440), 74.33 MiB | 19.05 MiB/s, done.\n",
            "Resolving deltas: 100% (195/195), done.\n",
            "/content/denoiser\n"
          ]
        }
      ]
    },
    {
      "cell_type": "markdown",
      "source": [
        "## Step 2: Dataset load and preparation\n",
        "- The Valentini dataset will be used.\n",
        "  - The dataset must be prepared and uploaded to Google Drive in advance.\n",
        "  - https://www.kaggle.com/datasets/muhmagdy/valentini-noisy"
      ],
      "metadata": {
        "id": "jjxAa4ny8rRv"
      }
    },
    {
      "cell_type": "code",
      "source": [
        "from google.colab import drive\n",
        "drive.mount('/content/drive/')\n",
        "\n",
        "from pathlib import Path\n",
        "import os\n",
        "import shutil\n",
        "\n",
        "# 경로 설정\n",
        "path_original  = \"/content/drive/MyDrive/Colab Notebooks/ARMY Projects/valentini_dataset/original_dataset\"\n",
        "path_converted = \"/content/drive/MyDrive/Colab Notebooks/ARMY Projects/valentini_dataset/converted_data\"\n",
        "path_denoiser  = \"/content/denoiser/dataset/valentini/\""
      ],
      "metadata": {
        "colab": {
          "base_uri": "https://localhost:8080/"
        },
        "id": "KbWJpA0gR2WC",
        "outputId": "055c9ad1-200c-4490-b639-5211775e05ae"
      },
      "execution_count": 4,
      "outputs": [
        {
          "output_type": "stream",
          "name": "stdout",
          "text": [
            "Mounted at /content/drive/\n"
          ]
        }
      ]
    },
    {
      "cell_type": "markdown",
      "source": [
        "### Step 2-1. Check whether the converted data exists"
      ],
      "metadata": {
        "id": "uCXZtVfS-PNb"
      }
    },
    {
      "cell_type": "code",
      "source": [
        "\"\"\"\n",
        "Valentini 데이터셋 변환 데이터 확인 및 복사\n",
        "\"\"\"\n",
        "\n",
        "def check_16kHz_form(file_path, default_sample_rate=16000):\n",
        "    \"\"\"파일이 16kHz인지 확인\"\"\"\n",
        "    try:\n",
        "        info = torchaudio.info(file_path)\n",
        "        if info.sample_rate != default_sample_rate:\n",
        "            print(f\">>> ❌ - {file_path.name} - sample rate: {info.sample_rate}Hz\")\n",
        "            return False\n",
        "        return True\n",
        "    except Exception as e:\n",
        "        print(f\">>> ❌ - Reading Error - {file_path.name}\")\n",
        "        return False\n",
        "\n",
        "def check_converted_data(converted_file_path=path_converted, check_sample=None):\n",
        "    \"\"\"변환된 데이터 존재 및 유효성 확인\"\"\"\n",
        "\n",
        "    if not Path(converted_file_path).exists():\n",
        "        print(\"❌ 변환된 데이터가 없습니다.\")\n",
        "        return False\n",
        "\n",
        "    print(f\"📁 경로 존재: {converted_file_path}\")\n",
        "\n",
        "    total_errors = 0\n",
        "    all_folders_exist = True\n",
        "\n",
        "    for split in ['train', 'test']:\n",
        "        for type_ in ['clean', 'noisy']:\n",
        "            path = f\"{converted_file_path}/{split}/{type_}\"\n",
        "\n",
        "            if not Path(path).exists():\n",
        "                print(f\">>> ❌ {split}/{type_} 폴더가 없습니다.\")\n",
        "                all_folders_exist = False\n",
        "                continue\n",
        "\n",
        "            wav_files = list(Path(path).glob(\"*.wav\"))\n",
        "            count = len(wav_files)\n",
        "            error_count = 0\n",
        "\n",
        "            if count > 0:\n",
        "                print(f\">>> 📋 {split}/{type_}: 파일 확인 중...\")\n",
        "\n",
        "                if check_sample in (\"All\", \"all\"):\n",
        "                    sample_files = wav_files\n",
        "                else:\n",
        "                    sample_size = min(5, count)\n",
        "                    sample_ind = np.random.choice(count, size=sample_size, replace=False)\n",
        "                    sample_files = [wav_files[i] for i in sample_ind]\n",
        "\n",
        "                for sample_file in sample_files:\n",
        "                    if not check_16kHz_form(sample_file):\n",
        "                        error_count += 1\n",
        "\n",
        "                total_errors += error_count\n",
        "                print(f\">>> ✅ {split}/{type_}: 총 {count}개, 16kHz 파일 {count - error_count}개\")\n",
        "\n",
        "                if error_count > 0:\n",
        "                    print(f\">>> ❌ {split}/{type_}: Error가 {error_count}개 있습니다.\")\n",
        "            else:\n",
        "                print(f\">>> ⚠️ {split}/{type_}: 파일이 없습니다.\")\n",
        "                all_folders_exist = False\n",
        "\n",
        "    if not all_folders_exist:\n",
        "        print(\"❌ 폴더 구조가 불완전합니다.\")\n",
        "        return False\n",
        "\n",
        "    if total_errors > 0:\n",
        "        print(f\"❌ 총 {total_errors}개의 파일이 16kHz가 아닙니다.\")\n",
        "        return False\n",
        "\n",
        "    print(\"✅ 모든 검증 통과! 16kHz 데이터 준비 완료\")\n",
        "    return True\n",
        "\n",
        "def copy_to_denoiser(denoiser_dataset_path=path_denoiser,\n",
        "                     converted_file_path=path_converted):\n",
        "    \"\"\"변환된 데이터를 denoiser 경로로 복사\"\"\"\n",
        "\n",
        "    print(f\"\\n📋 Denoiser 경로로 복사: {denoiser_dataset_path}\")\n",
        "\n",
        "    try:\n",
        "        if Path(denoiser_dataset_path).exists():\n",
        "            shutil.rmtree(denoiser_dataset_path)\n",
        "        os.makedirs(denoiser_dataset_path)\n",
        "\n",
        "        for item in Path(converted_file_path).iterdir():\n",
        "            if item.is_dir():\n",
        "                shutil.copytree(item, Path(denoiser_dataset_path) / item.name)\n",
        "\n",
        "        print(\"✅ Denoiser 복사 완료!\")\n",
        "        return True\n",
        "\n",
        "    except Exception as e:\n",
        "        print(f\"❌ 복사 중 오류: {e}\")\n",
        "        return False\n",
        "\n",
        "if __name__ == \"__main__\":\n",
        "    print(\"🔍 Valentini 데이터 확인 시작\")\n",
        "    print(\"=\" * 50)\n",
        "\n",
        "    if check_converted_data(converted_file_path=path_converted,\n",
        "                            check_sample=\"All\"):\n",
        "\n",
        "        print(\"\\n⚡ 기존 변환 데이터 재사용!\")\n",
        "\n",
        "        if copy_to_denoiser():\n",
        "            print(\"🎯 데이터 준비 완료! 훈련 시작 가능!\")\n",
        "        else:\n",
        "            print(\"❌ 복사 실패!\")\n",
        "    else:\n",
        "        print(\"\\n🔄 변환이 필요합니다.\")\n",
        "        print(\"💡 변환 코드를 실행하세요.\")"
      ],
      "metadata": {
        "colab": {
          "base_uri": "https://localhost:8080/"
        },
        "id": "azuE5MgN5rMp",
        "outputId": "df28075f-4172-4b2e-a71f-7bdd5722ca50"
      },
      "execution_count": 5,
      "outputs": [
        {
          "output_type": "stream",
          "name": "stdout",
          "text": [
            "🔍 Valentini 데이터 확인 시작\n",
            "==================================================\n",
            "📁 경로 존재: /content/drive/MyDrive/Colab Notebooks/ARMY Projects/valentini_dataset/converted_data\n",
            ">>> 📋 train/clean: 파일 확인 중...\n"
          ]
        },
        {
          "output_type": "stream",
          "name": "stderr",
          "text": [
            "/tmp/ipython-input-2322691637.py:8: UserWarning: torchaudio._backend.utils.info has been deprecated. This deprecation is part of a large refactoring effort to transition TorchAudio into a maintenance phase. The decoding and encoding capabilities of PyTorch for both audio and video are being consolidated into TorchCodec. Please see https://github.com/pytorch/audio/issues/3902 for more information. It will be removed from the 2.9 release. \n",
            "  info = torchaudio.info(file_path)\n",
            "/usr/local/lib/python3.12/dist-packages/torchaudio/_backend/ffmpeg.py:20: UserWarning: torio.io._streaming_media_decoder.StreamingMediaDecoder has been deprecated. This deprecation is part of a large refactoring effort to transition TorchAudio into a maintenance phase. The decoding and encoding capabilities of PyTorch for both audio and video are being consolidated into TorchCodec. Please see https://github.com/pytorch/audio/issues/3902 for more information. It will be removed from the 2.9 release. \n",
            "  s = torchaudio.io.StreamReader(src, format, None, buffer_size)\n",
            "/usr/local/lib/python3.12/dist-packages/torchaudio/_backend/ffmpeg.py:27: UserWarning: torchaudio._backend.common.AudioMetaData has been deprecated. This deprecation is part of a large refactoring effort to transition TorchAudio into a maintenance phase. The decoding and encoding capabilities of PyTorch for both audio and video are being consolidated into TorchCodec. Please see https://github.com/pytorch/audio/issues/3902 for more information. It will be removed from the 2.9 release. \n",
            "  return AudioMetaData(\n"
          ]
        },
        {
          "output_type": "stream",
          "name": "stdout",
          "text": [
            ">>> ✅ train/clean: 총 11572개, 16kHz 파일 11572개\n",
            ">>> 📋 train/noisy: 파일 확인 중...\n",
            ">>> ✅ train/noisy: 총 11572개, 16kHz 파일 11572개\n",
            ">>> 📋 test/clean: 파일 확인 중...\n",
            ">>> ✅ test/clean: 총 824개, 16kHz 파일 824개\n",
            ">>> 📋 test/noisy: 파일 확인 중...\n",
            ">>> ✅ test/noisy: 총 824개, 16kHz 파일 824개\n",
            "✅ 모든 검증 통과! 16kHz 데이터 준비 완료\n",
            "\n",
            "⚡ 기존 변환 데이터 재사용!\n",
            "\n",
            "📋 Denoiser 경로로 복사: /content/denoiser/dataset/valentini/\n",
            "✅ Denoiser 복사 완료!\n",
            "🎯 데이터 준비 완료! 훈련 시작 가능!\n"
          ]
        }
      ]
    },
    {
      "cell_type": "markdown",
      "source": [
        "### Step 2-2. Convert data"
      ],
      "metadata": {
        "id": "29WznusSDOnX"
      }
    },
    {
      "cell_type": "code",
      "source": [
        "def resample_and_save(source_file, target_dir, default_resample=16000):\n",
        "    \"\"\"파일을 16kHz로 리샘플링하여 저장\"\"\"\n",
        "    try:\n",
        "        # 오디오 로드\n",
        "        waveform, orig_sr = torchaudio.load(source_file)\n",
        "\n",
        "        # 16kHz로 리샘플링 (필요한 경우)\n",
        "        if orig_sr != default_resample:\n",
        "            resampler = torchaudio.transforms.Resample(orig_sr, default_resample)\n",
        "            resampled = resampler(waveform)\n",
        "        else:\n",
        "            resampled = waveform\n",
        "\n",
        "        # 저장 경로 생성\n",
        "        output_path = target_dir / source_file.name\n",
        "        torchaudio.save(str(output_path), resampled, default_resample)\n",
        "\n",
        "        return True\n",
        "\n",
        "    except Exception as e:\n",
        "        print(f\"❌ Resampling Error {source_file.name}: {e}\")\n",
        "        return False\n",
        "\n",
        "\n",
        "def convert_and_backup_valentini(folder_mapping, default_resample=16000):\n",
        "    \"\"\"원본 데이터를 16kHz로 변환하고 Google Drive에 저장\"\"\"\n",
        "\n",
        "    print(\"🔄 원본 데이터 변환 시작...\")\n",
        "\n",
        "    # Google Drive 저장 경로 생성\n",
        "    os.makedirs(path_converted, exist_ok=True)\n",
        "\n",
        "    total_converted = 0\n",
        "    total_errors = 0\n",
        "\n",
        "    for source_folder, target_folder in folder_mapping.items():\n",
        "        source_dir = Path(path_original) / source_folder\n",
        "        target_dir = Path(path_converted) / target_folder\n",
        "\n",
        "        if not source_dir.exists():\n",
        "            print(f\"⚠️  {source_dir} 폴더가 없습니다. 건너뜀.\")\n",
        "            continue\n",
        "\n",
        "        os.makedirs(target_dir, exist_ok=True)\n",
        "\n",
        "        # 원본 파일 목록\n",
        "        source_files = list(source_dir.glob(\"*.wav\"))\n",
        "        print(f\"📂 {source_folder}: {len(source_files)}개 파일\")\n",
        "\n",
        "        converted = 0\n",
        "        errors = 0\n",
        "\n",
        "        for file in tqdm(source_files,\n",
        "                        desc=f\"🔄 {source_folder}\",\n",
        "                        unit=\"files\", leave=True):\n",
        "\n",
        "            if resample_and_save(file, target_dir, default_resample):\n",
        "                converted += 1\n",
        "            else:\n",
        "                errors += 1\n",
        "\n",
        "        print(f\"✅ {source_folder}: {converted}개 성공, {errors}개 실패\")\n",
        "        total_converted += converted\n",
        "        total_errors += errors\n",
        "\n",
        "    # 결과 출력\n",
        "    if total_converted > 0:\n",
        "        print(f\"\\n💾 Google Drive 저장 완료! ({total_converted}개 파일)\")\n",
        "\n",
        "        # 저장 검증\n",
        "        saved_files = 0\n",
        "        for split in ['train', 'test']:\n",
        "            for type_ in ['clean', 'noisy']:\n",
        "                path = f\"{path_converted}/{split}/{type_}\"\n",
        "                if Path(path).exists():\n",
        "                    count = len(list(Path(path).glob(\"*.wav\")))\n",
        "                    saved_files += count\n",
        "                    print(f\">>> ✅ {split}/{type_}: {count}개 파일\")\n",
        "\n",
        "        print(f\"✅ 저장 검증: {saved_files}개 파일\")\n",
        "        return True\n",
        "    else:\n",
        "        print(\"❌ 변환된 파일이 없습니다.\")\n",
        "        return False\n",
        "\n",
        "\n",
        "# 🚀 메인 실행\n",
        "if __name__ == \"__main__\":\n",
        "    print(\"=\"*60)\n",
        "    print(\"🎵 Valentini 데이터셋 16kHz 변환\")\n",
        "    print(\"=\"*60)\n",
        "\n",
        "    folder_mapping = {\n",
        "        \"train_clean_28spk_wav\": \"train/clean\",\n",
        "        \"train_noisy_28spk_wav\": \"train/noisy\",\n",
        "        \"test_clean_wav\": \"test/clean\",\n",
        "        \"test_noisy_wav\": \"test/noisy\"\n",
        "    }\n",
        "\n",
        "    if not Path(path_original).exists():\n",
        "        print(f\"❌ 원본 데이터 경로가 없습니다: {path_original}\")\n",
        "    else:\n",
        "        success = convert_and_backup_valentini(folder_mapping)\n",
        "        if success:\n",
        "            print(\"🎉 변환 완료!\")\n",
        "        else:\n",
        "            print(\"❌ 변환 실패!\")"
      ],
      "metadata": {
        "colab": {
          "base_uri": "https://localhost:8080/"
        },
        "id": "UmrO53HxwEMr",
        "outputId": "d136a6ba-a28b-4734-83d5-4ff9549df7b6"
      },
      "execution_count": null,
      "outputs": [
        {
          "metadata": {
            "tags": null
          },
          "name": "stdout",
          "output_type": "stream",
          "text": [
            "🎵 Valentini 데이터셋 16kHz 변환 관리\n",
            "💡 한 번 변환하면 Google Drive에 저장되어 재사용됩니다!\n",
            "============================================================\n",
            "🔄 원본 데이터 변환 시작...\n",
            "📂 train_clean_28spk_wav: 11572개 파일\n"
          ]
        },
        {
          "metadata": {
            "tags": null
          },
          "name": "stderr",
          "output_type": "stream",
          "text": [
            "🔄 train_clean_28spk_wav:   0%|          | 0/11572 [00:00<?, ?files/s]/usr/local/lib/python3.12/dist-packages/torchaudio/_backend/utils.py:213: UserWarning: In 2.9, this function's implementation will be changed to use torchaudio.load_with_torchcodec` under the hood. Some parameters like ``normalize``, ``format``, ``buffer_size``, and ``backend`` will be ignored. We recommend that you port your code to rely directly on TorchCodec's decoder instead: https://docs.pytorch.org/torchcodec/stable/generated/torchcodec.decoders.AudioDecoder.html#torchcodec.decoders.AudioDecoder.\n",
            "  warnings.warn(\n",
            "/usr/local/lib/python3.12/dist-packages/torchaudio/_backend/ffmpeg.py:88: UserWarning: torio.io._streaming_media_decoder.StreamingMediaDecoder has been deprecated. This deprecation is part of a large refactoring effort to transition TorchAudio into a maintenance phase. The decoding and encoding capabilities of PyTorch for both audio and video are being consolidated into TorchCodec. Please see https://github.com/pytorch/audio/issues/3902 for more information. It will be removed from the 2.9 release. \n",
            "  s = torchaudio.io.StreamReader(src, format, None, buffer_size)\n",
            "/usr/local/lib/python3.12/dist-packages/torchaudio/_backend/utils.py:337: UserWarning: In 2.9, this function's implementation will be changed to use torchaudio.save_with_torchcodec` under the hood. Some parameters like format, encoding, bits_per_sample, buffer_size, and ``backend`` will be ignored. We recommend that you port your code to rely directly on TorchCodec's encoder instead: https://docs.pytorch.org/torchcodec/stable/generated/torchcodec.encoders.AudioEncoder\n",
            "  warnings.warn(\n",
            "/usr/local/lib/python3.12/dist-packages/torchaudio/_backend/ffmpeg.py:247: UserWarning: torio.io._streaming_media_encoder.StreamingMediaEncoder has been deprecated. This deprecation is part of a large refactoring effort to transition TorchAudio into a maintenance phase. The decoding and encoding capabilities of PyTorch for both audio and video are being consolidated into TorchCodec. Please see https://github.com/pytorch/audio/issues/3902 for more information. It will be removed from the 2.9 release. \n",
            "  s = torchaudio.io.StreamWriter(uri, format=muxer, buffer_size=buffer_size)\n",
            "🔄 train_clean_28spk_wav: 100%|██████████| 11572/11572 [18:54<00:00, 10.20files/s]\n"
          ]
        },
        {
          "metadata": {
            "tags": null
          },
          "name": "stdout",
          "output_type": "stream",
          "text": [
            "✅ train_clean_28spk_wav: 11572개 성공, 0개 실패\n",
            "📂 train_noisy_28spk_wav: 11572개 파일\n"
          ]
        },
        {
          "metadata": {
            "tags": null
          },
          "name": "stderr",
          "output_type": "stream",
          "text": [
            "🔄 train_noisy_28spk_wav: 100%|██████████| 11572/11572 [30:06<00:00,  6.41files/s]\n"
          ]
        },
        {
          "metadata": {
            "tags": null
          },
          "name": "stdout",
          "output_type": "stream",
          "text": [
            "✅ train_noisy_28spk_wav: 11572개 성공, 0개 실패\n",
            "📂 test_clean_wav: 824개 파일\n"
          ]
        },
        {
          "metadata": {
            "tags": null
          },
          "name": "stderr",
          "output_type": "stream",
          "text": [
            "🔄 test_clean_wav: 100%|██████████| 824/824 [02:15<00:00,  6.09files/s]\n"
          ]
        },
        {
          "metadata": {
            "tags": null
          },
          "name": "stdout",
          "output_type": "stream",
          "text": [
            "✅ test_clean_wav: 824개 성공, 0개 실패\n",
            "📂 test_noisy_wav: 824개 파일\n"
          ]
        },
        {
          "metadata": {
            "tags": null
          },
          "name": "stderr",
          "output_type": "stream",
          "text": [
            "🔄 test_noisy_wav: 100%|██████████| 824/824 [02:10<00:00,  6.33files/s]\n"
          ]
        },
        {
          "metadata": {
            "tags": null
          },
          "name": "stdout",
          "output_type": "stream",
          "text": [
            "✅ test_noisy_wav: 824개 성공, 0개 실패\n",
            "\n",
            "💾 Google Drive 저장 완료! (24792개 파일)\n",
            "✅ 저장 검증: 24792개 파일\n",
            "\n",
            "🎯 변환 완료! Denoiser로 복사 중...\n",
            "\n",
            "📋 Denoiser 경로로 복사: /content/denoiser/dataset/valentini/\n"
          ]
        }
      ]
    },
    {
      "cell_type": "markdown",
      "source": [
        "## Step 3: Json 메타 데이터 생성"
      ],
      "metadata": {
        "id": "0DMOCp039BMX"
      }
    },
    {
      "cell_type": "code",
      "source": [
        "import json\n",
        "import os"
      ],
      "metadata": {
        "id": "bl2g4C1eJKXK"
      },
      "execution_count": 13,
      "outputs": []
    },
    {
      "cell_type": "code",
      "source": [
        "# !pwd  # /content/denoiser\n",
        "# 데이터 폴더 구조 확인\n",
        "!ls -la \"/content/denoiser/dataset/\"\n",
        "!ls -la \"/content/denoiser/dataset/valentini\"\n",
        "!ls -la \"/content/denoiser/egs\""
      ],
      "metadata": {
        "colab": {
          "base_uri": "https://localhost:8080/"
        },
        "id": "Otw1zSRUMsld",
        "outputId": "77c14af3-1e98-456a-fbde-6c69f46a9cde"
      },
      "execution_count": 14,
      "outputs": [
        {
          "output_type": "stream",
          "name": "stdout",
          "text": [
            "total 16\n",
            "drwxr-xr-x 4 root root 4096 Sep 22 01:12 .\n",
            "drwxr-xr-x 9 root root 4096 Sep 22 01:28 ..\n",
            "drwxr-xr-x 4 root root 4096 Sep 22 00:51 debug\n",
            "drwxr-xr-x 4 root root 4096 Sep 22 01:22 valentini\n",
            "total 16\n",
            "drwxr-xr-x 4 root root 4096 Sep 22 01:22 .\n",
            "drwxr-xr-x 4 root root 4096 Sep 22 01:12 ..\n",
            "drwx------ 4 root root 4096 Sep 17 05:44 test\n",
            "drwx------ 4 root root 4096 Sep 17 04:54 train\n",
            "total 12\n",
            "drwxr-xr-x 3 root root 4096 Sep 22 01:28 .\n",
            "drwxr-xr-x 9 root root 4096 Sep 22 01:28 ..\n",
            "drwxr-xr-x 4 root root 4096 Sep 22 01:28 valentini\n"
          ]
        }
      ]
    },
    {
      "cell_type": "code",
      "source": [
        "!pip install julius"
      ],
      "metadata": {
        "colab": {
          "base_uri": "https://localhost:8080/"
        },
        "id": "MHF2zHZ4FOmU",
        "outputId": "af5b1733-53b6-492e-c86c-f9704a3ef2d4"
      },
      "execution_count": 16,
      "outputs": [
        {
          "output_type": "stream",
          "name": "stdout",
          "text": [
            "Collecting julius\n",
            "  Downloading julius-0.2.7.tar.gz (59 kB)\n",
            "\u001b[?25l     \u001b[90m━━━━━━━━━━━━━━━━━━━━━━━━━━━━━━━━━━━━━━━━\u001b[0m \u001b[32m0.0/59.6 kB\u001b[0m \u001b[31m?\u001b[0m eta \u001b[36m-:--:--\u001b[0m\r\u001b[2K     \u001b[90m━━━━━━━━━━━━━━━━━━━━━━━━━━━━━━━━━━━━━━━━\u001b[0m \u001b[32m59.6/59.6 kB\u001b[0m \u001b[31m2.6 MB/s\u001b[0m eta \u001b[36m0:00:00\u001b[0m\n",
            "\u001b[?25h  Preparing metadata (setup.py) ... \u001b[?25l\u001b[?25hdone\n",
            "Requirement already satisfied: torch>=1.7.0 in /usr/local/lib/python3.12/dist-packages (from julius) (2.8.0+cu126)\n",
            "Requirement already satisfied: filelock in /usr/local/lib/python3.12/dist-packages (from torch>=1.7.0->julius) (3.19.1)\n",
            "Requirement already satisfied: typing-extensions>=4.10.0 in /usr/local/lib/python3.12/dist-packages (from torch>=1.7.0->julius) (4.15.0)\n",
            "Requirement already satisfied: setuptools in /usr/local/lib/python3.12/dist-packages (from torch>=1.7.0->julius) (75.2.0)\n",
            "Requirement already satisfied: sympy>=1.13.3 in /usr/local/lib/python3.12/dist-packages (from torch>=1.7.0->julius) (1.13.3)\n",
            "Requirement already satisfied: networkx in /usr/local/lib/python3.12/dist-packages (from torch>=1.7.0->julius) (3.5)\n",
            "Requirement already satisfied: jinja2 in /usr/local/lib/python3.12/dist-packages (from torch>=1.7.0->julius) (3.1.6)\n",
            "Requirement already satisfied: fsspec in /usr/local/lib/python3.12/dist-packages (from torch>=1.7.0->julius) (2025.3.0)\n",
            "Requirement already satisfied: nvidia-cuda-nvrtc-cu12==12.6.77 in /usr/local/lib/python3.12/dist-packages (from torch>=1.7.0->julius) (12.6.77)\n",
            "Requirement already satisfied: nvidia-cuda-runtime-cu12==12.6.77 in /usr/local/lib/python3.12/dist-packages (from torch>=1.7.0->julius) (12.6.77)\n",
            "Requirement already satisfied: nvidia-cuda-cupti-cu12==12.6.80 in /usr/local/lib/python3.12/dist-packages (from torch>=1.7.0->julius) (12.6.80)\n",
            "Requirement already satisfied: nvidia-cudnn-cu12==9.10.2.21 in /usr/local/lib/python3.12/dist-packages (from torch>=1.7.0->julius) (9.10.2.21)\n",
            "Requirement already satisfied: nvidia-cublas-cu12==12.6.4.1 in /usr/local/lib/python3.12/dist-packages (from torch>=1.7.0->julius) (12.6.4.1)\n",
            "Requirement already satisfied: nvidia-cufft-cu12==11.3.0.4 in /usr/local/lib/python3.12/dist-packages (from torch>=1.7.0->julius) (11.3.0.4)\n",
            "Requirement already satisfied: nvidia-curand-cu12==10.3.7.77 in /usr/local/lib/python3.12/dist-packages (from torch>=1.7.0->julius) (10.3.7.77)\n",
            "Requirement already satisfied: nvidia-cusolver-cu12==11.7.1.2 in /usr/local/lib/python3.12/dist-packages (from torch>=1.7.0->julius) (11.7.1.2)\n",
            "Requirement already satisfied: nvidia-cusparse-cu12==12.5.4.2 in /usr/local/lib/python3.12/dist-packages (from torch>=1.7.0->julius) (12.5.4.2)\n",
            "Requirement already satisfied: nvidia-cusparselt-cu12==0.7.1 in /usr/local/lib/python3.12/dist-packages (from torch>=1.7.0->julius) (0.7.1)\n",
            "Requirement already satisfied: nvidia-nccl-cu12==2.27.3 in /usr/local/lib/python3.12/dist-packages (from torch>=1.7.0->julius) (2.27.3)\n",
            "Requirement already satisfied: nvidia-nvtx-cu12==12.6.77 in /usr/local/lib/python3.12/dist-packages (from torch>=1.7.0->julius) (12.6.77)\n",
            "Requirement already satisfied: nvidia-nvjitlink-cu12==12.6.85 in /usr/local/lib/python3.12/dist-packages (from torch>=1.7.0->julius) (12.6.85)\n",
            "Requirement already satisfied: nvidia-cufile-cu12==1.11.1.6 in /usr/local/lib/python3.12/dist-packages (from torch>=1.7.0->julius) (1.11.1.6)\n",
            "Requirement already satisfied: triton==3.4.0 in /usr/local/lib/python3.12/dist-packages (from torch>=1.7.0->julius) (3.4.0)\n",
            "Requirement already satisfied: mpmath<1.4,>=1.1.0 in /usr/local/lib/python3.12/dist-packages (from sympy>=1.13.3->torch>=1.7.0->julius) (1.3.0)\n",
            "Requirement already satisfied: MarkupSafe>=2.0 in /usr/local/lib/python3.12/dist-packages (from jinja2->torch>=1.7.0->julius) (3.0.2)\n",
            "Building wheels for collected packages: julius\n",
            "  Building wheel for julius (setup.py) ... \u001b[?25l\u001b[?25hdone\n",
            "  Created wheel for julius: filename=julius-0.2.7-py3-none-any.whl size=21870 sha256=846aa86c974d059d6f460ca4beb1846e2ac5adb01b27ebbb712a55e1acce3c6c\n",
            "  Stored in directory: /root/.cache/pip/wheels/de/c1/ca/544dafe48401e8e2e17064dfe465a390fca9e8720ffa12e744\n",
            "Successfully built julius\n",
            "Installing collected packages: julius\n",
            "Successfully installed julius-0.2.7\n"
          ]
        }
      ]
    },
    {
      "cell_type": "code",
      "source": [
        "# 메타데이터 폴더 생성\n",
        "!mkdir -p egs/valentini/{tr,tt}\n",
        "\n",
        "print(\"JSON 메타데이터 파일 생성 중...\")\n",
        "\n",
        "# 훈련 데이터 JSON 생성\n",
        "print(\"📁 훈련 데이터 JSON 생성...\")\n",
        "!python -m denoiser.audio dataset/valentini/train/clean > egs/valentini/tr/clean.json\n",
        "!python -m denoiser.audio dataset/valentini/train/noisy > egs/valentini/tr/noisy.json\n",
        "\n",
        "# 테스트 데이터 JSON 생성\n",
        "print(\"📁 테스트 데이터 JSON 생성...\")\n",
        "!python -m denoiser.audio dataset/valentini/test/clean > egs/valentini/tt/clean.json\n",
        "!python -m denoiser.audio dataset/valentini/test/noisy > egs/valentini/tt/noisy.json\n",
        "\n",
        "# 생성된 JSON 파일 검증\n",
        "print(\"\\n📊 생성된 JSON 파일 통계:\")\n",
        "json_files = [\n",
        "    \"egs/valentini/tr/clean.json\",\n",
        "    \"egs/valentini/tr/noisy.json\",\n",
        "    \"egs/valentini/tt/clean.json\",\n",
        "    \"egs/valentini/tt/noisy.json\"\n",
        "]\n",
        "\n",
        "for json_file in json_files:\n",
        "    if os.path.exists(json_file):\n",
        "        with open(json_file, 'r') as f:\n",
        "            data = json.load(f)\n",
        "        print(f\"  {json_file}: {len(data)}개 파일\")\n",
        "\n",
        "        # 첫 번째 항목 샘플 출력\n",
        "        if data and json_file == \"egs/valentini/tr/clean.json\":\n",
        "            print(f\"    샘플: {data[0]}\")\n",
        "    else:\n",
        "        print(f\"  ❌ {json_file}: 파일이 없습니다\")\n",
        "\n",
        "print(\"\\n✅ JSON 메타데이터 생성 완료!\")"
      ],
      "metadata": {
        "id": "yBobB_1h9EwN",
        "colab": {
          "base_uri": "https://localhost:8080/"
        },
        "outputId": "2e51598d-075d-405a-c7a4-ba93813dac32"
      },
      "execution_count": 17,
      "outputs": [
        {
          "output_type": "stream",
          "name": "stdout",
          "text": [
            "JSON 메타데이터 파일 생성 중...\n",
            "📁 훈련 데이터 JSON 생성...\n",
            "/content/denoiser/denoiser/audio.py:24: UserWarning: torchaudio._backend.utils.info has been deprecated. This deprecation is part of a large refactoring effort to transition TorchAudio into a maintenance phase. The decoding and encoding capabilities of PyTorch for both audio and video are being consolidated into TorchCodec. Please see https://github.com/pytorch/audio/issues/3902 for more information. It will be removed from the 2.9 release. \n",
            "  info = torchaudio.info(path)\n",
            "/usr/local/lib/python3.12/dist-packages/torchaudio/_backend/ffmpeg.py:20: UserWarning: torio.io._streaming_media_decoder.StreamingMediaDecoder has been deprecated. This deprecation is part of a large refactoring effort to transition TorchAudio into a maintenance phase. The decoding and encoding capabilities of PyTorch for both audio and video are being consolidated into TorchCodec. Please see https://github.com/pytorch/audio/issues/3902 for more information. It will be removed from the 2.9 release. \n",
            "  s = torchaudio.io.StreamReader(src, format, None, buffer_size)\n",
            "/usr/local/lib/python3.12/dist-packages/torchaudio/_backend/ffmpeg.py:27: UserWarning: torchaudio._backend.common.AudioMetaData has been deprecated. This deprecation is part of a large refactoring effort to transition TorchAudio into a maintenance phase. The decoding and encoding capabilities of PyTorch for both audio and video are being consolidated into TorchCodec. Please see https://github.com/pytorch/audio/issues/3902 for more information. It will be removed from the 2.9 release. \n",
            "  return AudioMetaData(\n",
            "/content/denoiser/denoiser/audio.py:24: UserWarning: torchaudio._backend.utils.info has been deprecated. This deprecation is part of a large refactoring effort to transition TorchAudio into a maintenance phase. The decoding and encoding capabilities of PyTorch for both audio and video are being consolidated into TorchCodec. Please see https://github.com/pytorch/audio/issues/3902 for more information. It will be removed from the 2.9 release. \n",
            "  info = torchaudio.info(path)\n",
            "/usr/local/lib/python3.12/dist-packages/torchaudio/_backend/ffmpeg.py:20: UserWarning: torio.io._streaming_media_decoder.StreamingMediaDecoder has been deprecated. This deprecation is part of a large refactoring effort to transition TorchAudio into a maintenance phase. The decoding and encoding capabilities of PyTorch for both audio and video are being consolidated into TorchCodec. Please see https://github.com/pytorch/audio/issues/3902 for more information. It will be removed from the 2.9 release. \n",
            "  s = torchaudio.io.StreamReader(src, format, None, buffer_size)\n",
            "/usr/local/lib/python3.12/dist-packages/torchaudio/_backend/ffmpeg.py:27: UserWarning: torchaudio._backend.common.AudioMetaData has been deprecated. This deprecation is part of a large refactoring effort to transition TorchAudio into a maintenance phase. The decoding and encoding capabilities of PyTorch for both audio and video are being consolidated into TorchCodec. Please see https://github.com/pytorch/audio/issues/3902 for more information. It will be removed from the 2.9 release. \n",
            "  return AudioMetaData(\n",
            "📁 테스트 데이터 JSON 생성...\n",
            "/content/denoiser/denoiser/audio.py:24: UserWarning: torchaudio._backend.utils.info has been deprecated. This deprecation is part of a large refactoring effort to transition TorchAudio into a maintenance phase. The decoding and encoding capabilities of PyTorch for both audio and video are being consolidated into TorchCodec. Please see https://github.com/pytorch/audio/issues/3902 for more information. It will be removed from the 2.9 release. \n",
            "  info = torchaudio.info(path)\n",
            "/usr/local/lib/python3.12/dist-packages/torchaudio/_backend/ffmpeg.py:20: UserWarning: torio.io._streaming_media_decoder.StreamingMediaDecoder has been deprecated. This deprecation is part of a large refactoring effort to transition TorchAudio into a maintenance phase. The decoding and encoding capabilities of PyTorch for both audio and video are being consolidated into TorchCodec. Please see https://github.com/pytorch/audio/issues/3902 for more information. It will be removed from the 2.9 release. \n",
            "  s = torchaudio.io.StreamReader(src, format, None, buffer_size)\n",
            "/usr/local/lib/python3.12/dist-packages/torchaudio/_backend/ffmpeg.py:27: UserWarning: torchaudio._backend.common.AudioMetaData has been deprecated. This deprecation is part of a large refactoring effort to transition TorchAudio into a maintenance phase. The decoding and encoding capabilities of PyTorch for both audio and video are being consolidated into TorchCodec. Please see https://github.com/pytorch/audio/issues/3902 for more information. It will be removed from the 2.9 release. \n",
            "  return AudioMetaData(\n",
            "/content/denoiser/denoiser/audio.py:24: UserWarning: torchaudio._backend.utils.info has been deprecated. This deprecation is part of a large refactoring effort to transition TorchAudio into a maintenance phase. The decoding and encoding capabilities of PyTorch for both audio and video are being consolidated into TorchCodec. Please see https://github.com/pytorch/audio/issues/3902 for more information. It will be removed from the 2.9 release. \n",
            "  info = torchaudio.info(path)\n",
            "/usr/local/lib/python3.12/dist-packages/torchaudio/_backend/ffmpeg.py:20: UserWarning: torio.io._streaming_media_decoder.StreamingMediaDecoder has been deprecated. This deprecation is part of a large refactoring effort to transition TorchAudio into a maintenance phase. The decoding and encoding capabilities of PyTorch for both audio and video are being consolidated into TorchCodec. Please see https://github.com/pytorch/audio/issues/3902 for more information. It will be removed from the 2.9 release. \n",
            "  s = torchaudio.io.StreamReader(src, format, None, buffer_size)\n",
            "/usr/local/lib/python3.12/dist-packages/torchaudio/_backend/ffmpeg.py:27: UserWarning: torchaudio._backend.common.AudioMetaData has been deprecated. This deprecation is part of a large refactoring effort to transition TorchAudio into a maintenance phase. The decoding and encoding capabilities of PyTorch for both audio and video are being consolidated into TorchCodec. Please see https://github.com/pytorch/audio/issues/3902 for more information. It will be removed from the 2.9 release. \n",
            "  return AudioMetaData(\n",
            "\n",
            "📊 생성된 JSON 파일 통계:\n",
            "  egs/valentini/tr/clean.json: 11572개 파일\n",
            "    샘플: ['/content/denoiser/dataset/valentini/train/clean/p226_001.wav', 36480]\n",
            "  egs/valentini/tr/noisy.json: 11572개 파일\n",
            "  egs/valentini/tt/clean.json: 824개 파일\n",
            "  egs/valentini/tt/noisy.json: 824개 파일\n",
            "\n",
            "✅ JSON 메타데이터 생성 완료!\n"
          ]
        }
      ]
    },
    {
      "cell_type": "code",
      "source": [
        "# Step 5: 라즈베리파이 5 최적화 설정 파일 생성\n",
        "\n",
        "import os\n",
        "\n",
        "# 1. Valentini Colab 데이터셋 설정\n",
        "valentini_config = \"\"\"# Valentini 데이터셋 설정 (Colab)\n",
        "dset:\n",
        "  train: egs/valentini/tr\n",
        "  valid:\n",
        "  test: egs/valentini/tt\n",
        "  noisy_json: egs/valentini/tt/noisy.json\n",
        "  noisy_dir:\n",
        "  matching: sort\n",
        "eval_every: 10\n",
        "pesq: 1\n",
        "\"\"\"\n",
        "\n",
        "os.makedirs('conf/dset', exist_ok=True)\n",
        "with open('conf/dset/valentini_colab.yaml', 'w') as f:\n",
        "    f.write(valentini_config)\n",
        "\n",
        "print(\"✅ Valentini Colab 설정 파일 생성 완료\")\n",
        "\n",
        "# 2. 라즈베리파이 5 최적화 모델 설정 (선택사항)\n",
        "rpi5_optimal_config = \"\"\"# 라즈베리파이 5 최적화 모델 설정\n",
        "defaults:\n",
        "  - dset: valentini_colab\n",
        "  - hydra/job_logging: colorlog\n",
        "  - hydra/hydra_logging: colorlog\n",
        "\n",
        "# 기본 설정\n",
        "sample_rate: 16000\n",
        "segment: 4\n",
        "stride: 1\n",
        "pad: true\n",
        "\n",
        "# 데이터 증강 (Valentini용)\n",
        "remix: true\n",
        "bandmask: 0.2\n",
        "shift: 8000\n",
        "shift_same: true\n",
        "revecho: 0\n",
        "\n",
        "# 훈련 설정\n",
        "epochs: 150\n",
        "batch_size: 32\n",
        "lr: 3e-4\n",
        "optim: adam\n",
        "beta2: 0.999\n",
        "loss: l1\n",
        "\n",
        "# STFT 손실 (품질 향상)\n",
        "stft_loss: true\n",
        "stft_sc_factor: 0.1\n",
        "stft_mag_factor: 0.1\n",
        "\n",
        "# 평가 설정\n",
        "eval_every: 10\n",
        "pesq: true\n",
        "\n",
        "# 라즈베리파이 5 최적화 모델 아키텍처 (RTF=0.834 달성)\n",
        "demucs:\n",
        "  chin: 1\n",
        "  chout: 1\n",
        "  hidden: 32          # 48→32 (핵심 최적화)\n",
        "  depth: 4            # 5→4 감소\n",
        "  kernel_size: 8      # 유지 (변경 금지)\n",
        "  stride: 4           # 유지 (변경 금지)\n",
        "  causal: true        # 실시간 필수\n",
        "  glu: false          # true→false (파라미터 50% 감소)\n",
        "  resample: 2         # 4→2 (2.5배 성능 향상)\n",
        "  growth: 1.5         # 2.0→1.5 경량화\n",
        "  max_hidden: 128     # hidden*4로 제한\n",
        "  normalize: true     # 유지\n",
        "  rescale: 0.1        # 유지\n",
        "\n",
        "# 시스템 설정\n",
        "device: cuda\n",
        "num_workers: 2\n",
        "checkpoint: true\n",
        "\"\"\"\n",
        "\n",
        "with open('conf/rpi5_optimal.yaml', 'w') as f:\n",
        "    f.write(rpi5_optimal_config)\n",
        "\n",
        "print(\"✅ 라즈베리파이 5 최적화 설정 파일 생성 완료\")\n",
        "\n",
        "# 생성된 설정 파일 확인\n",
        "print(\"\\n📁 생성된 설정 파일:\")\n",
        "print(\"  - conf/dset/valentini_colab.yaml\")\n",
        "print(\"  - conf/rpi5_optimal.yaml\")\n",
        "\n",
        "# 설정 내용 미리보기\n",
        "print(\"\\n📋 주요 모델 파라미터 (라즈베리파이 5 최적화):\")\n",
        "print(\"  - hidden: 32 (경량화)\")\n",
        "print(\"  - depth: 4 (성능 균형)\")\n",
        "print(\"  - glu: false (파라미터 50% 감소)\")\n",
        "print(\"  - resample: 2 (2.5배 성능 향상)\")\n",
        "print(\"  - growth: 1.5 (메모리 최적화)\")\n",
        "print(\"  - 예상 RTF: 0.834 (라즈베리파이 5 기준)\")"
      ],
      "metadata": {
        "id": "LRuoG7559Jm_",
        "colab": {
          "base_uri": "https://localhost:8080/"
        },
        "outputId": "99b8babf-4e02-4776-bcb9-91939d110c12"
      },
      "execution_count": 18,
      "outputs": [
        {
          "output_type": "stream",
          "name": "stdout",
          "text": [
            "✅ Valentini Colab 설정 파일 생성 완료\n",
            "✅ 라즈베리파이 5 최적화 설정 파일 생성 완료\n",
            "\n",
            "📁 생성된 설정 파일:\n",
            "  - conf/dset/valentini_colab.yaml\n",
            "  - conf/rpi5_optimal.yaml\n",
            "\n",
            "📋 주요 모델 파라미터 (라즈베리파이 5 최적화):\n",
            "  - hidden: 32 (경량화)\n",
            "  - depth: 4 (성능 균형)\n",
            "  - glu: false (파라미터 50% 감소)\n",
            "  - resample: 2 (2.5배 성능 향상)\n",
            "  - growth: 1.5 (메모리 최적화)\n",
            "  - 예상 RTF: 0.834 (라즈베리파이 5 기준)\n"
          ]
        }
      ]
    },
    {
      "cell_type": "code",
      "source": [
        "# 생성된 파일 확인\n",
        "!ls -la conf/rpi5_optimal.yaml\n",
        "!ls -la conf/dset/valentini_colab.yaml\n",
        "\n",
        "# 설정 내용 간단 확인\n",
        "!head -20 conf/rpi5_optimal.yaml"
      ],
      "metadata": {
        "colab": {
          "base_uri": "https://localhost:8080/"
        },
        "id": "qejVHy98QK9u",
        "outputId": "98d54bea-ff0d-490a-856c-9913d9134a9d"
      },
      "execution_count": 9,
      "outputs": [
        {
          "output_type": "stream",
          "name": "stdout",
          "text": [
            "-rw-r--r-- 1 root root 1192 Sep 18 05:16 conf/rpi5_optimal.yaml\n",
            "-rw-r--r-- 1 root root 203 Sep 18 05:16 conf/dset/valentini_colab.yaml\n",
            "# 라즈베리파이 5 최적화 모델 설정\n",
            "defaults:\n",
            "  - dset: valentini_colab\n",
            "  - hydra/job_logging: colorlog\n",
            "  - hydra/hydra_logging: colorlog\n",
            "\n",
            "# 기본 설정\n",
            "sample_rate: 16000\n",
            "segment: 4\n",
            "stride: 1\n",
            "pad: true\n",
            "\n",
            "# 데이터 증강 (Valentini용)\n",
            "remix: true\n",
            "bandmask: 0.2\n",
            "shift: 8000\n",
            "shift_same: true\n",
            "revecho: 0\n",
            "\n",
            "# 훈련 설정\n"
          ]
        }
      ]
    },
    {
      "cell_type": "markdown",
      "source": [
        "## Step 4. Training\n",
        "\n",
        "🚀 라즈베리파이 5 최적화 모델 훈련 시작\n",
        "\n",
        "모델 설정:\n",
        "  - Architecture: Light-32-Depth4\n",
        "  - Dataset: Valentini (16kHz)\n",
        "  - Target RTF: 0.834 (Raspberry Pi 5)\n",
        "  - Epochs: 150\n",
        "  - Expected time: 4-8 hours (GPU)"
      ],
      "metadata": {
        "id": "MBdrm_RJ9KPx"
      }
    },
    {
      "cell_type": "code",
      "source": [
        "!cd /content/denoiser && ls\n",
        "\n",
        "\"\"\"\n",
        "!cd /content/denoiser && ls\n",
        "CODE_OF_CONDUCT.md  img\t\t\t    README.md\n",
        "conf\t\t    launch_dns.sh\t    requirements_cuda.txt\n",
        "CONTRIBUTING.md     launch_valentini_nc.sh  requirements.txt\n",
        "dataset\t\t    launch_valentini.sh     setup.cfg\n",
        "denoiser\t    LICENSE\t\t    setup.py\n",
        "egs\t\t    make_debug.sh\t    train.py\n",
        "hubconf.py\t    MANIFEST.in\n",
        "\"\"\""
      ],
      "metadata": {
        "colab": {
          "base_uri": "https://localhost:8080/",
          "height": 107
        },
        "id": "Bu2a97wROVTB",
        "outputId": "e1152eb8-f3bd-4e9a-c80e-27eecc164085"
      },
      "execution_count": 5,
      "outputs": [
        {
          "output_type": "stream",
          "name": "stdout",
          "text": [
            "/bin/bash: line 1: cd: /content/denoiser: No such file or directory\n"
          ]
        },
        {
          "output_type": "execute_result",
          "data": {
            "text/plain": [
              "'\\n!cd /content/denoiser && ls\\nCODE_OF_CONDUCT.md  img\\t\\t\\t    README.md\\nconf\\t\\t    launch_dns.sh\\t    requirements_cuda.txt\\nCONTRIBUTING.md     launch_valentini_nc.sh  requirements.txt\\ndataset\\t\\t    launch_valentini.sh     setup.cfg\\ndenoiser\\t    LICENSE\\t\\t    setup.py\\negs\\t\\t    make_debug.sh\\t    train.py\\nhubconf.py\\t    MANIFEST.in\\n'"
            ],
            "application/vnd.google.colaboratory.intrinsic+json": {
              "type": "string"
            }
          },
          "metadata": {},
          "execution_count": 5
        }
      ]
    },
    {
      "cell_type": "code",
      "source": [
        "!cd /content/denoiser && python train.py \\\n",
        "  hydra.job.chdir=True \\\n",
        "  dset.train=egs/valentini/tr \\\n",
        "  dset.test=egs/valentini/tt \\\n",
        "  dset.noisy_json=egs/valentini/tt/noisy.json \\\n",
        "  dset.matching=sort \\\n",
        "  demucs.hidden=32 \\\n",
        "  demucs.depth=4 \\\n",
        "  demucs.glu=false \\\n",
        "  demucs.resample=2 \\\n",
        "  demucs.growth=1.5 \\\n",
        "  demucs.max_hidden=128 \\\n",
        "  epochs=150 \\\n",
        "  batch_size=32 \\\n",
        "  stft_loss=true \\\n",
        "  remix=true \\\n",
        "  bandmask=0.2 \\\n",
        "  shift=8000 \\\n",
        "  shift_same=true"
      ],
      "metadata": {
        "colab": {
          "base_uri": "https://localhost:8080/"
        },
        "id": "_a4SpN8LOFpM",
        "outputId": "bc589a89-b715-4f72-d6fe-e26ac016310e"
      },
      "execution_count": 2,
      "outputs": [
        {
          "output_type": "stream",
          "name": "stdout",
          "text": [
            "/content/denoiser/train.py:102: UserWarning: \n",
            "The version_base parameter is not specified.\n",
            "Please specify a compatability version level, or None.\n",
            "Will assume defaults for version 1.1\n",
            "  @hydra.main(config_path=\"conf/config.yaml\")\n",
            "Traceback (most recent call last):\n",
            "  File \"/content/denoiser/train.py\", line 113, in <module>\n",
            "    main()\n",
            "  File \"/usr/local/lib/python3.12/dist-packages/hydra/main.py\", line 94, in decorated_main\n",
            "    _run_hydra(\n",
            "  File \"/usr/local/lib/python3.12/dist-packages/hydra/_internal/utils.py\", line 335, in _run_hydra\n",
            "    validate_config_path(config_path)\n",
            "  File \"/usr/local/lib/python3.12/dist-packages/hydra/core/utils.py\", line 293, in validate_config_path\n",
            "    raise ValueError(msg)\n",
            "ValueError: Using config_path to specify the config name is not supported, specify the config name via config_name.\n",
            "See https://hydra.cc/docs/1.2/upgrades/0.11_to_1.0/config_path_changes\n",
            "\n"
          ]
        }
      ]
    },
    {
      "cell_type": "code",
      "source": [
        "# 파일 위치 재확인\n",
        "!ls /content/denoiser/train.py\n",
        "\n",
        "# 올바른 경로로 수정\n",
        "!cd /content/denoiser && grep -n \"@hydra.main\" train.py\n",
        "\n",
        "# 수정 실행\n",
        "!cd /content/denoiser && sed -i '102s/@hydra.main(config_path=\"conf\\/config.yaml\")/@hydra.main(version_base=None, config_path=\"conf\", config_name=\"config\")/' train.py\n",
        "\n",
        "# 수정 결과 확인\n",
        "!cd /content/denoiser && grep -n \"@hydra.main\" train.py"
      ],
      "metadata": {
        "colab": {
          "base_uri": "https://localhost:8080/"
        },
        "id": "Fi3xis1fTVJP",
        "outputId": "6be74ebd-7728-40f4-8cf9-d8341e6a64ae"
      },
      "execution_count": 4,
      "outputs": [
        {
          "output_type": "stream",
          "name": "stdout",
          "text": [
            "/content/denoiser/train.py\n",
            "102:@hydra.main(config_path=\"conf/config.yaml\")\n",
            "102:@hydra.main(version_base=None, config_path=\"conf\", config_name=\"config\")\n"
          ]
        }
      ]
    },
    {
      "cell_type": "code",
      "source": [
        "def check_progress():\n",
        "    os.chdir('/content/denoiser')\n",
        "\n",
        "    # 최신 실험 폴더 찾기\n",
        "    dirs = glob.glob(\"outputs/exp_*\")\n",
        "    if not dirs:\n",
        "        print(\"❌ 훈련 폴더 없음\")\n",
        "        return\n",
        "\n",
        "    latest = max(dirs)\n",
        "    history_file = f\"{latest}/history.json\"\n",
        "\n",
        "    if not os.path.exists(history_file):\n",
        "        print(\"⏳ history.json 대기 중...\")\n",
        "        return\n",
        "\n",
        "    # 히스토리 읽기\n",
        "    with open(history_file, 'r') as f:\n",
        "        history = json.load(f)\n",
        "\n",
        "    if not history:\n",
        "        print(\"⏳ 데이터 대기 중...\")\n",
        "        return\n",
        "\n",
        "    # 최신 결과 출력\n",
        "    latest_result = history[-1]\n",
        "    epoch = len(history)\n",
        "\n",
        "    print(f\"📈 에포크: {epoch}/150\")\n",
        "    print(f\"📉 Train Loss: {latest_result.get('train', 'N/A'):.5f}\")\n",
        "    print(f\"📉 Valid Loss: {latest_result.get('valid', 'N/A'):.5f}\")\n",
        "\n",
        "    # PESQ/STOI (있으면 출력)\n",
        "    if 'pesq' in latest_result:\n",
        "        pesq = latest_result['pesq']\n",
        "        status = \"🟢\" if pesq > 2.5 else \"🟡\" if pesq > 2.0 else \"🔴\"\n",
        "        print(f\"🎵 PESQ: {pesq:.3f} {status}\")\n",
        "\n",
        "    if 'stoi' in latest_result:\n",
        "        stoi = latest_result['stoi']\n",
        "        status = \"🟢\" if stoi > 0.85 else \"🟡\" if stoi > 0.75 else \"🔴\"\n",
        "        print(f\"🔊 STOI: {stoi:.3f} {status}\")\n",
        "\n"
      ],
      "metadata": {
        "id": "bTaNkalS9Mkl"
      },
      "execution_count": 10,
      "outputs": []
    },
    {
      "cell_type": "code",
      "source": [
        "# debug 데이터셋 생성 (작은 데이터로 테스트)\n",
        "!cd /content/denoiser && ./make_debug.sh\n",
        "\n",
        "# 기본 설정으로 실행 (에러 없이 작동)\n",
        "!cd /content/denoiser && python train.py num_workers=0 device=cuda epochs=5 demucs.hidden=32 demucs.depth=4 demucs.glu=false demucs.resample=2"
      ],
      "metadata": {
        "colab": {
          "base_uri": "https://localhost:8080/"
        },
        "id": "XSj3XK8sSK70",
        "outputId": "556a1aa3-bc7b-41a7-dede-480dd24b26b2"
      },
      "execution_count": 8,
      "outputs": [
        {
          "output_type": "stream",
          "name": "stdout",
          "text": [
            "/content/denoiser/denoiser/audio.py:24: UserWarning: torchaudio._backend.utils.info has been deprecated. This deprecation is part of a large refactoring effort to transition TorchAudio into a maintenance phase. The decoding and encoding capabilities of PyTorch for both audio and video are being consolidated into TorchCodec. Please see https://github.com/pytorch/audio/issues/3902 for more information. It will be removed from the 2.9 release. \n",
            "  info = torchaudio.info(path)\n",
            "/usr/local/lib/python3.12/dist-packages/torchaudio/_backend/ffmpeg.py:20: UserWarning: torio.io._streaming_media_decoder.StreamingMediaDecoder has been deprecated. This deprecation is part of a large refactoring effort to transition TorchAudio into a maintenance phase. The decoding and encoding capabilities of PyTorch for both audio and video are being consolidated into TorchCodec. Please see https://github.com/pytorch/audio/issues/3902 for more information. It will be removed from the 2.9 release. \n",
            "  s = torchaudio.io.StreamReader(src, format, None, buffer_size)\n",
            "/usr/local/lib/python3.12/dist-packages/torchaudio/_backend/ffmpeg.py:27: UserWarning: torchaudio._backend.common.AudioMetaData has been deprecated. This deprecation is part of a large refactoring effort to transition TorchAudio into a maintenance phase. The decoding and encoding capabilities of PyTorch for both audio and video are being consolidated into TorchCodec. Please see https://github.com/pytorch/audio/issues/3902 for more information. It will be removed from the 2.9 release. \n",
            "  return AudioMetaData(\n",
            "/content/denoiser/denoiser/audio.py:24: UserWarning: torchaudio._backend.utils.info has been deprecated. This deprecation is part of a large refactoring effort to transition TorchAudio into a maintenance phase. The decoding and encoding capabilities of PyTorch for both audio and video are being consolidated into TorchCodec. Please see https://github.com/pytorch/audio/issues/3902 for more information. It will be removed from the 2.9 release. \n",
            "  info = torchaudio.info(path)\n",
            "/usr/local/lib/python3.12/dist-packages/torchaudio/_backend/ffmpeg.py:20: UserWarning: torio.io._streaming_media_decoder.StreamingMediaDecoder has been deprecated. This deprecation is part of a large refactoring effort to transition TorchAudio into a maintenance phase. The decoding and encoding capabilities of PyTorch for both audio and video are being consolidated into TorchCodec. Please see https://github.com/pytorch/audio/issues/3902 for more information. It will be removed from the 2.9 release. \n",
            "  s = torchaudio.io.StreamReader(src, format, None, buffer_size)\n",
            "/usr/local/lib/python3.12/dist-packages/torchaudio/_backend/ffmpeg.py:27: UserWarning: torchaudio._backend.common.AudioMetaData has been deprecated. This deprecation is part of a large refactoring effort to transition TorchAudio into a maintenance phase. The decoding and encoding capabilities of PyTorch for both audio and video are being consolidated into TorchCodec. Please see https://github.com/pytorch/audio/issues/3902 for more information. It will be removed from the 2.9 release. \n",
            "  return AudioMetaData(\n",
            "/usr/local/lib/python3.12/dist-packages/hydra/_internal/defaults_list.py:251: UserWarning: In 'config': Defaults list is missing `_self_`. See https://hydra.cc/docs/1.2/upgrades/1.0_to_1.1/default_composition_order for more information\n",
            "  warnings.warn(msg, UserWarning)\n",
            "Multiple values for hydra/job_logging. To override a value use 'override hydra/job_logging: colorlog'\n",
            "\n",
            "Set the environment variable HYDRA_FULL_ERROR=1 for a complete stack trace.\n"
          ]
        }
      ]
    },
    {
      "cell_type": "markdown",
      "source": [],
      "metadata": {
        "id": "RejkUL-s9N2S"
      }
    }
  ]
}